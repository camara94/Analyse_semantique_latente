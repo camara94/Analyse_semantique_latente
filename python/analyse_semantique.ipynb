{
 "cells": [
  {
   "cell_type": "markdown",
   "id": "9a502d44-ce7c-4a36-84d2-a531ae1b4e2a",
   "metadata": {
    "tags": []
   },
   "source": [
    "# L'Analyse Sémantique Latente\n",
    "Dans ce projet, nous allons voir comment « extraire » des concepts à partir d'un corpus (collection) de documents textuels.\n",
    "\n",
    "Je vais vous montrer comment extraire mathématiquement des \"concepts\" de ce corpus. La technique que nous allons utiliser s'appelle \"l'analyse sémantique latente\"."
   ]
  },
  {
   "cell_type": "code",
   "execution_count": 539,
   "id": "65c968bc-b17f-45c6-8a8a-5ca917d86977",
   "metadata": {},
   "outputs": [],
   "source": [
    "from bs4 import BeautifulSoup\n",
    "import nltk\n",
    "from nltk.corpus import stopwords\n",
    "from sklearn.decomposition import TruncatedSVD\n",
    "from sklearn.feature_extraction.text import TfidfVectorizer\n",
    "import requests as req"
   ]
  },
  {
   "cell_type": "markdown",
   "id": "168e5443-e77a-40da-ae10-903a77d4012e",
   "metadata": {},
   "source": [
    "J'ai scrapé un article sur le **Deep Learning** à travers le site **CNRS Le Journal**<br>\n",
    "[https://lejournal.cnrs.fr/billets/letonnante-acceptabilite-des-deep-fake](https://lejournal.cnrs.fr/billets/letonnante-acceptabilite-des-deep-fake)"
   ]
  },
  {
   "cell_type": "code",
   "execution_count": 540,
   "id": "3ca05dd4-8d1e-4f3e-9f55-5445c2e1509d",
   "metadata": {},
   "outputs": [],
   "source": [
    "# url_article = 'https://www.ledevoir.com/culture/medias/601874/medias-l-esprit-de-i-science-i-amp-i-vie-i-reinvente-dans-le-nouveau-magazine-i-epsiloon-i'\n",
    "url_article = 'https://lejournal.cnrs.fr/billets/letonnante-acceptabilite-des-deep-fake'"
   ]
  },
  {
   "cell_type": "code",
   "execution_count": 541,
   "id": "6cc7de56-565f-4d38-b612-d0fb87733efe",
   "metadata": {},
   "outputs": [],
   "source": [
    "reponse = req.get(url_article)"
   ]
  },
  {
   "cell_type": "code",
   "execution_count": 542,
   "id": "7b90f9cc-e3c3-44e5-a6e2-c5a2c2695544",
   "metadata": {},
   "outputs": [],
   "source": [
    "article = ''\n",
    "if reponse.ok:\n",
    "    soup = BeautifulSoup(reponse.text)\n",
    "    \n",
    "    articleText = soup.findAll('p')\n",
    "    \n",
    "    # divArt = soup.findAll('div')\n",
    "    \n",
    "    articleDocs = [paragraphe.text for paragraphe in articleText if len(paragraphe)>4]\n",
    "    article = [paragraphe.lower() for paragraphe in articleDocs]\n",
    "    \n",
    "    # for i in divArt:\n",
    "    #     if len(i)>5:\n",
    "    #         article.append(i.text.lower())\n",
    "else:\n",
    "    print('Pas de réponse')"
   ]
  },
  {
   "cell_type": "code",
   "execution_count": 543,
   "id": "3377d638-9ad0-4c7d-96be-310018c7edac",
   "metadata": {},
   "outputs": [],
   "source": [
    "import htmlentities as decodeEnt"
   ]
  },
  {
   "cell_type": "code",
   "execution_count": 544,
   "id": "5c28d75d-eb8d-4991-bf06-9218ca0bec54",
   "metadata": {},
   "outputs": [],
   "source": [
    "def supprimer_nomber(texte):\n",
    "    import re\n",
    "    for i in re.findall('\\d{1,}', texte):\n",
    "        texte = texte.replace(i, '')\n",
    "    return texte"
   ]
  },
  {
   "cell_type": "code",
   "execution_count": 545,
   "id": "dcd1c4b6-c7b0-47da-90b7-fe08565d6199",
   "metadata": {},
   "outputs": [],
   "source": [
    "def preproces(docs, entitie, separateur):\n",
    "    docs = [supprimer_nomber(art) for art in docs ]\n",
    "    return [art.replace(entitie, separateur) for art in docs ]"
   ]
  },
  {
   "cell_type": "code",
   "execution_count": 546,
   "id": "4e19c2f8-2e4a-4960-8073-5064cae36507",
   "metadata": {},
   "outputs": [],
   "source": [
    "article = preproces(article, '\\xa0', ' ')\n",
    "article = preproces(article, '\\t', ' ')\n",
    "article = preproces(article, '\\n', ' ')"
   ]
  },
  {
   "cell_type": "markdown",
   "id": "3d9da8d6-6372-4b5b-826b-4876765628d5",
   "metadata": {},
   "source": [
    "Les mots vides sont des mots que je ne veux pas convertir en fonctionnalités, car ils ne sont pas particulièrement utiles. Des mots comme **a**, **and** et **the** sont de bons mots vides en français. Je peux utiliser une liste intégrée de mots vides de nltk pour commencer. Ensuite, j'ajouterai des mots vides personnalisés qui sont **html indésirable** que je dois nettoyer de mes données"
   ]
  },
  {
   "cell_type": "code",
   "execution_count": 547,
   "id": "8ba1bfa3-e20d-4c0a-b54f-b248020724c3",
   "metadata": {},
   "outputs": [],
   "source": [
    "mot_inutils = set(stopwords.words('french'))"
   ]
  },
  {
   "cell_type": "code",
   "execution_count": 548,
   "id": "79069d66-0939-4ace-9ede-36315675a861",
   "metadata": {},
   "outputs": [
    {
     "data": {
      "text/plain": [
       "157"
      ]
     },
     "execution_count": 548,
     "metadata": {},
     "output_type": "execute_result"
    }
   ],
   "source": [
    "len(mot_inutils)"
   ]
  },
  {
   "cell_type": "markdown",
   "id": "cf64b57e-bd18-49ad-8dfc-4ef92ab734a9",
   "metadata": {},
   "source": [
    "## TF-IDF Vectorizing\n",
    "Je vais utiliser le vectoriseur TF-IDF de scikit-learn pour prendre mon corpus et convertir chaque document en une matrice creuse de fonctionnalités TFIDF..."
   ]
  },
  {
   "cell_type": "code",
   "execution_count": 549,
   "id": "0df1d8c2-ca55-4f76-bda0-9b743ee21369",
   "metadata": {},
   "outputs": [
    {
     "data": {
      "text/plain": [
       "'une fois par mois, retrouvez sur notre site les inédits du cnrs, des analyses scientifiques originales publiées en partenariat avec libération.  '"
      ]
     },
     "execution_count": 549,
     "metadata": {},
     "output_type": "execute_result"
    }
   ],
   "source": [
    "article[0]"
   ]
  },
  {
   "cell_type": "code",
   "execution_count": 550,
   "id": "f41f5fa7-ed64-4533-9a2d-92b98609aeab",
   "metadata": {},
   "outputs": [],
   "source": [
    "vectorizer = TfidfVectorizer(\n",
    "                             stop_words=mot_inutils, use_idf=True, \n",
    "                             ngram_range=(1, 5)\n",
    ")"
   ]
  },
  {
   "cell_type": "code",
   "execution_count": 551,
   "id": "c84fb755-a641-4f70-b0b5-07d469c1962e",
   "metadata": {},
   "outputs": [],
   "source": [
    "X = vectorizer.fit_transform(article)"
   ]
  },
  {
   "cell_type": "code",
   "execution_count": 552,
   "id": "2f74e92a-25b5-46e4-a0dd-e44c057962e4",
   "metadata": {},
   "outputs": [
    {
     "data": {
      "text/plain": [
       "<1x2518 sparse matrix of type '<class 'numpy.float64'>'\n",
       "\twith 50 stored elements in Compressed Sparse Row format>"
      ]
     },
     "execution_count": 552,
     "metadata": {},
     "output_type": "execute_result"
    }
   ],
   "source": [
    "X[0]"
   ]
  },
  {
   "cell_type": "code",
   "execution_count": 553,
   "id": "2d154e9f-5019-4752-878d-52c2418b0131",
   "metadata": {},
   "outputs": [],
   "source": [
    "# print(X[1])"
   ]
  },
  {
   "cell_type": "markdown",
   "id": "bbd21d7c-004a-463b-ad84-7c20e4a99529",
   "metadata": {},
   "source": [
    "## LSA\n",
    "* **Entrée : X**, une matrice où m est le nombre de documents que j'ai, et n est le nombre de termes\n",
    "\n",
    "* **Processus :** Je vais décomposer X en matrices appelées U, S et T. Lorsque nous effectuons la décomposition, nous devons choisir une valeur k, c'est le nombre de concepts que nous allons conserver.\n",
    "<div style=\"width:150px; margin: 10px auto;\">X = ${USV}^T$</div>\n",
    "* **U :** sera une matrice mxk. Les lignes seront des documents et les colonnes seront des **concepts**\n",
    "* **S :** sera une matrice kxk. Les éléments seront la quantité de variation capturée à partir de chaque **concept**\n",
    "* **V :** sera une matrice mxk (attention à la transposition). la ligne sera les termes et les colonnes seront **concepts**\n"
   ]
  },
  {
   "cell_type": "code",
   "execution_count": 554,
   "id": "618f2e03-6f73-4143-8edf-5cd6d9ecb003",
   "metadata": {},
   "outputs": [
    {
     "data": {
      "text/plain": [
       "(7, 2518)"
      ]
     },
     "execution_count": 554,
     "metadata": {},
     "output_type": "execute_result"
    }
   ],
   "source": [
    "X.shape[0], X.shape[1]"
   ]
  },
  {
   "cell_type": "code",
   "execution_count": 555,
   "id": "f737cdc4-a365-494e-84ee-1963bcc7a457",
   "metadata": {},
   "outputs": [],
   "source": [
    "lsa = TruncatedSVD(n_components=X.shape[0], n_iter=100)"
   ]
  },
  {
   "cell_type": "code",
   "execution_count": 556,
   "id": "acf704a0-4f6e-4c1c-90fc-b2aa21b6355b",
   "metadata": {},
   "outputs": [],
   "source": [
    "model = lsa.fit(X)"
   ]
  },
  {
   "cell_type": "code",
   "execution_count": 557,
   "id": "c145b01e-7fb3-4381-b2b2-150cf2de06e6",
   "metadata": {},
   "outputs": [
    {
     "data": {
      "text/plain": [
       "array([0.01748629, 0.01748629, 0.01748629, ..., 0.01920119, 0.01920119,\n",
       "       0.01920119])"
      ]
     },
     "execution_count": 557,
     "metadata": {},
     "output_type": "execute_result"
    }
   ],
   "source": [
    "V = model.components_[0]\n",
    "V"
   ]
  },
  {
   "cell_type": "code",
   "execution_count": 558,
   "id": "46ed89d1-64b1-4389-9bae-9800a2b19572",
   "metadata": {},
   "outputs": [
    {
     "name": "stdout",
     "output_type": "stream",
     "text": [
      "Concept 0\n",
      " - voix\n",
      " \n",
      " - plus\n",
      " \n",
      " - comme\n",
      " \n",
      "Concept 1\n",
      " - site\n",
      " \n",
      " - algorithmes contre\n",
      " \n",
      " - algorithmes contre images\n",
      " \n",
      "Concept 2\n",
      " - technologies\n",
      " \n",
      " - transformations vocales\n",
      " \n",
      " - vocales\n",
      " \n",
      "Concept 3\n",
      " - deep\n",
      " \n",
      " - deep fake\n",
      " \n",
      " - fake\n",
      " \n",
      "Concept 4\n",
      " - analyses\n",
      " \n",
      " - analyses scientifiques\n",
      " \n",
      " - analyses scientifiques originales\n",
      " \n",
      "Concept 5\n",
      " - montré\n",
      " \n",
      " - participants\n",
      " \n",
      " - tout\n",
      " \n",
      "Concept 6\n",
      " - scénarios\n",
      " \n",
      " - voix\n",
      " \n",
      " - situations\n",
      " \n"
     ]
    }
   ],
   "source": [
    "termes = vectorizer.get_feature_names()\n",
    "\n",
    "for i, comp in enumerate(model.components_):\n",
    "    \n",
    "    termeEtConc = zip(termes, comp)\n",
    "    \n",
    "    sortedTermes = sorted(termeEtConc, key=lambda x: x[1], reverse=True)[:3]\n",
    "    print(f'Concept {i}')\n",
    "    for terme in sortedTermes:\n",
    "        print(f' - {terme[0]}')\n",
    "        print(' ')\n",
    "    "
   ]
  },
  {
   "cell_type": "code",
   "execution_count": 559,
   "id": "bd1947b1-4263-460a-ae57-0073adb1ed61",
   "metadata": {},
   "outputs": [
    {
     "data": {
      "text/plain": [
       "'\\n  Technologie, \\n  les  algorithmes contre images,\\n  les application des transformations vocales,\\n  analyses scientifiques\\n'"
      ]
     },
     "execution_count": 559,
     "metadata": {},
     "output_type": "execute_result"
    }
   ],
   "source": [
    "\"\"\"\n",
    "  Technologie, \n",
    "  les  algorithmes contre images,\n",
    "  les application des transformations vocales,\n",
    "  analyses scientifiques\n",
    "\"\"\""
   ]
  },
  {
   "cell_type": "code",
   "execution_count": 560,
   "id": "844226c7-1ba3-4568-aa29-52e9037d175f",
   "metadata": {},
   "outputs": [],
   "source": [
    "t = \"145 852 les application des transformations vocale\""
   ]
  },
  {
   "cell_type": "code",
   "execution_count": null,
   "id": "b8fc8585-67d3-48c9-822f-b295b7a4e447",
   "metadata": {},
   "outputs": [],
   "source": []
  },
  {
   "cell_type": "code",
   "execution_count": 535,
   "id": "75c49bd8-4457-486d-9949-cabaf9609f4e",
   "metadata": {},
   "outputs": [
    {
     "data": {
      "text/plain": [
       "'  les application des transformations vocale'"
      ]
     },
     "execution_count": 535,
     "metadata": {},
     "output_type": "execute_result"
    }
   ],
   "source": [
    "supprimer_nomber(t)"
   ]
  },
  {
   "cell_type": "code",
   "execution_count": null,
   "id": "77e16ec8-686e-4726-8b50-62824e7667c1",
   "metadata": {},
   "outputs": [],
   "source": []
  },
  {
   "cell_type": "code",
   "execution_count": null,
   "id": "967ec3a9-b96c-44d7-8054-a1f2bfd5debd",
   "metadata": {},
   "outputs": [],
   "source": []
  },
  {
   "cell_type": "code",
   "execution_count": null,
   "id": "5a8e4e33-70fd-47e2-b0e0-43d117c70816",
   "metadata": {},
   "outputs": [],
   "source": []
  }
 ],
 "metadata": {
  "kernelspec": {
   "display_name": "Python 3",
   "language": "python",
   "name": "python3"
  },
  "language_info": {
   "codemirror_mode": {
    "name": "ipython",
    "version": 3
   },
   "file_extension": ".py",
   "mimetype": "text/x-python",
   "name": "python",
   "nbconvert_exporter": "python",
   "pygments_lexer": "ipython3",
   "version": "3.8.5"
  }
 },
 "nbformat": 4,
 "nbformat_minor": 5
}
